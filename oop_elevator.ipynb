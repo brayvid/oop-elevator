{
  "nbformat": 4,
  "nbformat_minor": 0,
  "metadata": {
    "colab": {
      "provenance": [],
      "toc_visible": true
    },
    "kernelspec": {
      "name": "python3",
      "display_name": "Python 3"
    },
    "language_info": {
      "name": "python"
    }
  },
  "cells": [
    {
      "cell_type": "markdown",
      "source": [
        "<h1>An elevator built with object-oriented programming.</h1>\n",
        "<h4>Blake Rayvid - <a href=https://github.com/brayvid>https://github.com/brayvid</a></h4>"
      ],
      "metadata": {
        "id": "DeBE1v9bOWwG"
      }
    },
    {
      "cell_type": "code",
      "execution_count": null,
      "metadata": {
        "id": "3etF13K4_WUz"
      },
      "outputs": [],
      "source": [
        "class Building:\n",
        "  \"\"\"\n",
        "  Attributes:\n",
        "  - floors: list of Floors (0: Lobby, 1: MiddleFloor,..., -1: Roof)\n",
        "  - elevators: list of Elevators\n",
        "  - occupants: list of Riders in the building\n",
        "  \"\"\"\n",
        "  def __init__(self, num_floors, num_elevators):\n",
        "    \"\"\"\n",
        "    - Constructor parameters:\n",
        "    - num_floors: Int > 1\n",
        "    - num_elevators: Int > 0\n",
        "    \"\"\"\n",
        "    if num_floors < 2:\n",
        "      raise Exception(\"Building must have at least 2 floors.\")\n",
        "    elif num_elevators < 1:\n",
        "      raise Exception(\"Building must have at least 1 elevator.\")\n",
        "\n",
        "    self.num_floors = num_floors\n",
        "    self.num_elevators = num_elevators\n",
        "    self.occupants = []\n",
        "\n",
        "    # Instantiate floors of building\n",
        "    self.floors = [Lobby(floor_number = 0, building = self)]\n",
        "    for i in range(1, num_floors-1):\n",
        "      self.floors.append(MiddleFloor(floor_number = i, building = self))\n",
        "    self.floors.append(Roof(floor_number = num_floors-1, building = self))\n",
        "\n",
        "    # Instantiate elevators of building\n",
        "    self.elevators = []\n",
        "    for i in range(num_elevators):\n",
        "      self.elevators.append(Elevator(building = self))\n",
        "\n",
        "\n",
        "class Floor:\n",
        "  \"\"\"\n",
        "  Parent of Lobby, Roof and MiddleFloor. Not itself instantiated.\n",
        "\n",
        "  Attributes:\n",
        "  - waiting: list of Riders waiting on that floor\n",
        "  - floor_number: Int\n",
        "  - building: the containing Building object\n",
        "  \"\"\"\n",
        "  def __init__(self, floor_number, building):\n",
        "    \"\"\"\n",
        "    Constructor parameters:\n",
        "    - floor_number: Int >= 0\n",
        "    - building: a Building object\n",
        "    \"\"\"\n",
        "    if floor_number < 0:\n",
        "      raise Exception(\"'floor_number' must be a non-negative integer.\")\n",
        "    self.floor_number = floor_number\n",
        "    self.building = building\n",
        "    self.waiting = []\n",
        "\n",
        "\n",
        "class Lobby(Floor):\n",
        "  \"\"\"\n",
        "  Called by Building() only.\n",
        "\n",
        "  Attributes:\n",
        "  - waiting: list of Riders waiting on that floor\n",
        "  - floor_number: Int\n",
        "  - building: the containing Building object\n",
        "  - up_button: UpDownButton(up = True)\n",
        "  \"\"\"\n",
        "  def __init__(self, floor_number, building):\n",
        "    \"\"\"\n",
        "    Constructor parameters:\n",
        "    - floor_number: Int >= 0\n",
        "    - building: a Building object\n",
        "    \"\"\"\n",
        "    self.up_button = UpDownButton(up = True)\n",
        "    super().__init__(floor_number = floor_number, building = building)\n",
        "\n",
        "\n",
        "class Roof(Floor):\n",
        "  \"\"\"\n",
        "  Called by Building() only.\n",
        "\n",
        "  Attributes:\n",
        "  - waiting: list of Riders waiting on that floor\n",
        "  - floor_number: Int\n",
        "  - building: the containing Building object\n",
        "  - down_button: UpDownButton(up = False)\n",
        "  \"\"\"\n",
        "  def __init__(self, floor_number, building):\n",
        "    \"\"\"\n",
        "    Constructor parameters:\n",
        "    - floor_number: Int >= 0\n",
        "    - building: a Building object\n",
        "    \"\"\"\n",
        "    self.down_button = UpDownButton(up = False)\n",
        "    super().__init__(floor_number = floor_number, building = building)\n",
        "\n",
        "\n",
        "class MiddleFloor(Floor):\n",
        "  \"\"\"\n",
        "  Called by Building() only.\n",
        "\n",
        "  Attributes:\n",
        "  - waiting: list of Riders waiting on that floor\n",
        "  - floor_number: Int\n",
        "  - building: the containing Building object\n",
        "  - up_button: UpDownButton(up = True)\n",
        "  - down_button: UpDownButton(up = False)\n",
        "  \"\"\"\n",
        "  def __init__(self, floor_number, building):\n",
        "    \"\"\"\n",
        "    Constructor parameters:\n",
        "    - floor_number: Int >= 0\n",
        "    - building: a Building object\n",
        "    \"\"\"\n",
        "    self.up_button = UpDownButton(up = True)\n",
        "    self.down_buton = UpDownButton(up = False)\n",
        "    super().__init__(floor_number = floor_number, building = building)\n",
        "\n",
        "\n",
        "class Elevator:\n",
        "  \"\"\"\n",
        "  Called by Building() only.\n",
        "\n",
        "  Attributes:\n",
        "  - weight_limit: maximum weight elevator can allow\n",
        "  - current_weight: total weight of all occupants inside elevator\n",
        "  - current_floor: what floor the elevator is currently at\n",
        "  - building: the containing Building object\n",
        "  - occupants: list of Riders inside elevator\n",
        "  - direction: +1 = up, 0 = stopped, -1 = down\n",
        "  - buttons: list of DestButtons inside elevator\n",
        "\n",
        "  Methods:\n",
        "  - ascend(): Go up one floor\n",
        "  - descend(): Go down one floor\n",
        "  \"\"\"\n",
        "  def __init__(self, building, weight_limit = 2000):\n",
        "    \"\"\"\n",
        "    Constructor parameters:\n",
        "    - building: what Building the elevator is in\n",
        "    - weight_limit: [optional] maximum weight elevator allows before restricting entry. Default 2000.\n",
        "    \"\"\"\n",
        "    self.weight_limit = weight_limit\n",
        "    self.building = building\n",
        "    self.current_floor = 0\n",
        "    self.current_weight = 0\n",
        "    self.occupants = []\n",
        "    self.direction = 0 # not yet in use\n",
        "\n",
        "    # Not yet in use\n",
        "    self.buttons = []\n",
        "    for i in range(self.building.num_floors):\n",
        "      self.buttons.append(DestButton(i))\n",
        "\n",
        "  # Go up one floor\n",
        "  def ascend(self):\n",
        "    if self.current_floor < self.building.num_floors-1:\n",
        "      self.current_floor += 1\n",
        "    else:\n",
        "      raise Exception('Already at roof.')\n",
        "\n",
        "  # Go down one floor\n",
        "  def descend(self):\n",
        "    if self.current_floor > 0:\n",
        "      self.current_floor -= 1\n",
        "    else:\n",
        "      raise Exception('Already at lobby')\n",
        "\n",
        "\n",
        "class Rider:\n",
        "  \"\"\"\n",
        "  Attributes:\n",
        "  - weight: weight of rider\n",
        "  - origin_floor: what floor the rider is currently on before riding elevator\n",
        "  - dest_floor: what floor the rider intends to travel to.\n",
        "  - building: the containing Building object\n",
        "  - elevator: the elevator number of the rider if in one, else None\n",
        "\n",
        "  Methods:\n",
        "  - enter(elevator_num): Have rider enter a specific elevator\n",
        "  - exit_elev(): Have rider exit their current elevator at current floor\n",
        "  - leave(): Have rider exit building (only if in lobby)\n",
        "  - choose(floor_number): Have rider pick a destination floor\n",
        "  \"\"\"\n",
        "  def __init__(self, building, weight = 150, dest_floor = 0):\n",
        "    \"\"\"\n",
        "    Constructor parameters:\n",
        "    - building: a Building object\n",
        "    - weight: [optional] weight of rider. Default 150.\n",
        "    - dest_floor: [optional] the floor the rider intends to travel to. Default 0.\n",
        "    \"\"\"\n",
        "    self.weight = weight\n",
        "    self.origin_floor = 0\n",
        "    self.dest_floor = dest_floor\n",
        "    self.building = building\n",
        "    self.elevator = None\n",
        "    self.building.floors[0].waiting.append(self)\n",
        "    self.building.occupants.append(self)\n",
        "\n",
        "  #\n",
        "  def enter(self, elevator_num):\n",
        "    if elevator_num > len(self.building.elevators) or elevator_num < 0:\n",
        "      raise Exception(\"'Invalid 'elevator_num'.\")\n",
        "\n",
        "    if self.origin_floor != self.building.elevators[elevator_num].current_floor:\n",
        "      raise Exception(\"Elevator is not at the rider's current floor.\")\n",
        "\n",
        "    if self.weight + self.building.elevators[elevator_num].current_weight > self.building.elevators[elevator_num].weight_limit:\n",
        "      raise Exception(\"Not allowed - Elevator would be over weight limit.\")\n",
        "\n",
        "    waiting_idx = self.building.floors[self.origin_floor].waiting.index(self)\n",
        "    self.building.floors[self.origin_floor].waiting.pop(waiting_idx)\n",
        "    self.building.elevators[elevator_num].occupants.append(self)\n",
        "    self.elevator = elevator_num\n",
        "    self.building.elevators[elevator_num].current_weight += self.weight\n",
        "\n",
        "  #\n",
        "  def exit_elev(self):\n",
        "    try:\n",
        "      occupant_idx = self.building.elevators[self.elevator].occupants.index(self)\n",
        "    except:\n",
        "      raise Exception(\"Rider is not in an elevator.\")\n",
        "\n",
        "    self.building.elevators[self.elevator].occupants.pop(occupant_idx)\n",
        "    self.building.floors[self.building.elevators[self.elevator].current_floor].waiting.append(self)\n",
        "    self.origin_floor = self.building.elevators[self.elevator].current_floor\n",
        "    self.building.elevators[self.elevator].current_weight -= self.weight\n",
        "    self.elevator = None\n",
        "\n",
        "  #\n",
        "  def leave(self):\n",
        "    if self.origin_floor == 0:\n",
        "      waiting_idx = self.building.floors[0].waiting.index(self)\n",
        "      self.building.floors[0].waiting.pop(waiting_idx)\n",
        "\n",
        "      occupant_idx = self.building.occupants.index(self)\n",
        "      self.building.occupants.pop(occupant_idx)\n",
        "    else:\n",
        "      raise Exception(\"Rider can only leave from the lobby.\")\n",
        "\n",
        "  #\n",
        "  def choose(self, floor_number):\n",
        "    self.dest_floor = floor_number\n",
        "\n",
        "\n",
        "class Button:\n",
        "  \"\"\"\n",
        "  Not fully implemented yet. Docstring pending.\n",
        "  \"\"\"\n",
        "  def __init__(self):\n",
        "    self.pressed = False\n",
        "\n",
        "  #\n",
        "  def push(self):\n",
        "    self.pressed = True\n",
        "\n",
        "  #\n",
        "  def reset(self):\n",
        "    self.pressed = False\n",
        "\n",
        "\n",
        "\n",
        "class UpDownButton(Button):\n",
        "  \"\"\"\n",
        "  Not fully implemented yet. Docstring pending.\n",
        "  \"\"\"\n",
        "  def __init__(self, up):\n",
        "    self.up = up\n",
        "    super().__init__()\n",
        "\n",
        "\n",
        "class DestButton(Button):\n",
        "  \"\"\"\n",
        "  Not fully implemented yet. Docstring pending.\n",
        "  \"\"\"\n",
        "  def __init__(self, floor_number):\n",
        "    self.floor_number = floor_number\n",
        "    super().__init__()"
      ]
    },
    {
      "cell_type": "markdown",
      "source": [
        "# Example automatic operation"
      ],
      "metadata": {
        "id": "g4uOJLFsEn-e"
      }
    },
    {
      "cell_type": "code",
      "source": [
        "def sequence_runner(sequence):\n",
        "  for step in sequence:\n",
        "    exec(step)\n",
        "\n",
        "floors = 20\n",
        "\n",
        "# Script: one rider goes up to the roof and back down\n",
        "seq = [f'bld = Building(num_floors = {floors}, num_elevators = 1)',\n",
        "       'rider1 = Rider(building = bld)',\n",
        "       'print([x.waiting for x in bld.floors])',\n",
        "       'rider1.enter(0)',\n",
        "       f'''for i in range({floors-1}):\n",
        "            bld.elevators[0].ascend()\n",
        "            rider1.exit_elev()\n",
        "            print([x.waiting for x in bld.floors])\n",
        "            rider1.enter(0)''',\n",
        "       f'''for i in range({floors-1}):\n",
        "            bld.elevators[0].descend()\n",
        "            rider1.exit_elev()\n",
        "            print([x.waiting for x in bld.floors])\n",
        "            rider1.enter(0)''']\n",
        "\n",
        "sequence_runner(seq)"
      ],
      "metadata": {
        "colab": {
          "base_uri": "https://localhost:8080/"
        },
        "id": "rn9QU-ZcEpu-",
        "outputId": "2da299f2-b9d6-4588-838e-1b2ac0409dc6"
      },
      "execution_count": null,
      "outputs": [
        {
          "output_type": "stream",
          "name": "stdout",
          "text": [
            "[[<__main__.Rider object at 0x7bc5d172f2e0>], [], [], [], [], [], [], [], [], [], [], [], [], [], [], [], [], [], [], []]\n",
            "[[], [<__main__.Rider object at 0x7bc5d172f2e0>], [], [], [], [], [], [], [], [], [], [], [], [], [], [], [], [], [], []]\n",
            "[[], [], [<__main__.Rider object at 0x7bc5d172f2e0>], [], [], [], [], [], [], [], [], [], [], [], [], [], [], [], [], []]\n",
            "[[], [], [], [<__main__.Rider object at 0x7bc5d172f2e0>], [], [], [], [], [], [], [], [], [], [], [], [], [], [], [], []]\n",
            "[[], [], [], [], [<__main__.Rider object at 0x7bc5d172f2e0>], [], [], [], [], [], [], [], [], [], [], [], [], [], [], []]\n",
            "[[], [], [], [], [], [<__main__.Rider object at 0x7bc5d172f2e0>], [], [], [], [], [], [], [], [], [], [], [], [], [], []]\n",
            "[[], [], [], [], [], [], [<__main__.Rider object at 0x7bc5d172f2e0>], [], [], [], [], [], [], [], [], [], [], [], [], []]\n",
            "[[], [], [], [], [], [], [], [<__main__.Rider object at 0x7bc5d172f2e0>], [], [], [], [], [], [], [], [], [], [], [], []]\n",
            "[[], [], [], [], [], [], [], [], [<__main__.Rider object at 0x7bc5d172f2e0>], [], [], [], [], [], [], [], [], [], [], []]\n",
            "[[], [], [], [], [], [], [], [], [], [<__main__.Rider object at 0x7bc5d172f2e0>], [], [], [], [], [], [], [], [], [], []]\n",
            "[[], [], [], [], [], [], [], [], [], [], [<__main__.Rider object at 0x7bc5d172f2e0>], [], [], [], [], [], [], [], [], []]\n",
            "[[], [], [], [], [], [], [], [], [], [], [], [<__main__.Rider object at 0x7bc5d172f2e0>], [], [], [], [], [], [], [], []]\n",
            "[[], [], [], [], [], [], [], [], [], [], [], [], [<__main__.Rider object at 0x7bc5d172f2e0>], [], [], [], [], [], [], []]\n",
            "[[], [], [], [], [], [], [], [], [], [], [], [], [], [<__main__.Rider object at 0x7bc5d172f2e0>], [], [], [], [], [], []]\n",
            "[[], [], [], [], [], [], [], [], [], [], [], [], [], [], [<__main__.Rider object at 0x7bc5d172f2e0>], [], [], [], [], []]\n",
            "[[], [], [], [], [], [], [], [], [], [], [], [], [], [], [], [<__main__.Rider object at 0x7bc5d172f2e0>], [], [], [], []]\n",
            "[[], [], [], [], [], [], [], [], [], [], [], [], [], [], [], [], [<__main__.Rider object at 0x7bc5d172f2e0>], [], [], []]\n",
            "[[], [], [], [], [], [], [], [], [], [], [], [], [], [], [], [], [], [<__main__.Rider object at 0x7bc5d172f2e0>], [], []]\n",
            "[[], [], [], [], [], [], [], [], [], [], [], [], [], [], [], [], [], [], [<__main__.Rider object at 0x7bc5d172f2e0>], []]\n",
            "[[], [], [], [], [], [], [], [], [], [], [], [], [], [], [], [], [], [], [], [<__main__.Rider object at 0x7bc5d172f2e0>]]\n",
            "[[], [], [], [], [], [], [], [], [], [], [], [], [], [], [], [], [], [], [<__main__.Rider object at 0x7bc5d172f2e0>], []]\n",
            "[[], [], [], [], [], [], [], [], [], [], [], [], [], [], [], [], [], [<__main__.Rider object at 0x7bc5d172f2e0>], [], []]\n",
            "[[], [], [], [], [], [], [], [], [], [], [], [], [], [], [], [], [<__main__.Rider object at 0x7bc5d172f2e0>], [], [], []]\n",
            "[[], [], [], [], [], [], [], [], [], [], [], [], [], [], [], [<__main__.Rider object at 0x7bc5d172f2e0>], [], [], [], []]\n",
            "[[], [], [], [], [], [], [], [], [], [], [], [], [], [], [<__main__.Rider object at 0x7bc5d172f2e0>], [], [], [], [], []]\n",
            "[[], [], [], [], [], [], [], [], [], [], [], [], [], [<__main__.Rider object at 0x7bc5d172f2e0>], [], [], [], [], [], []]\n",
            "[[], [], [], [], [], [], [], [], [], [], [], [], [<__main__.Rider object at 0x7bc5d172f2e0>], [], [], [], [], [], [], []]\n",
            "[[], [], [], [], [], [], [], [], [], [], [], [<__main__.Rider object at 0x7bc5d172f2e0>], [], [], [], [], [], [], [], []]\n",
            "[[], [], [], [], [], [], [], [], [], [], [<__main__.Rider object at 0x7bc5d172f2e0>], [], [], [], [], [], [], [], [], []]\n",
            "[[], [], [], [], [], [], [], [], [], [<__main__.Rider object at 0x7bc5d172f2e0>], [], [], [], [], [], [], [], [], [], []]\n",
            "[[], [], [], [], [], [], [], [], [<__main__.Rider object at 0x7bc5d172f2e0>], [], [], [], [], [], [], [], [], [], [], []]\n",
            "[[], [], [], [], [], [], [], [<__main__.Rider object at 0x7bc5d172f2e0>], [], [], [], [], [], [], [], [], [], [], [], []]\n",
            "[[], [], [], [], [], [], [<__main__.Rider object at 0x7bc5d172f2e0>], [], [], [], [], [], [], [], [], [], [], [], [], []]\n",
            "[[], [], [], [], [], [<__main__.Rider object at 0x7bc5d172f2e0>], [], [], [], [], [], [], [], [], [], [], [], [], [], []]\n",
            "[[], [], [], [], [<__main__.Rider object at 0x7bc5d172f2e0>], [], [], [], [], [], [], [], [], [], [], [], [], [], [], []]\n",
            "[[], [], [], [<__main__.Rider object at 0x7bc5d172f2e0>], [], [], [], [], [], [], [], [], [], [], [], [], [], [], [], []]\n",
            "[[], [], [<__main__.Rider object at 0x7bc5d172f2e0>], [], [], [], [], [], [], [], [], [], [], [], [], [], [], [], [], []]\n",
            "[[], [<__main__.Rider object at 0x7bc5d172f2e0>], [], [], [], [], [], [], [], [], [], [], [], [], [], [], [], [], [], []]\n",
            "[[<__main__.Rider object at 0x7bc5d172f2e0>], [], [], [], [], [], [], [], [], [], [], [], [], [], [], [], [], [], [], []]\n"
          ]
        }
      ]
    },
    {
      "cell_type": "markdown",
      "source": [
        "# Example manual operation"
      ],
      "metadata": {
        "id": "mAVRq6qyJ2UI"
      }
    },
    {
      "cell_type": "code",
      "source": [
        "# ACTION: Create a new building object with 10 floors and 3 elevators\n",
        "bld = Building(num_floors = 10, num_elevators = 3)"
      ],
      "metadata": {
        "id": "BnOTihgay8yv"
      },
      "execution_count": null,
      "outputs": []
    },
    {
      "cell_type": "code",
      "source": [
        "# Display what floor each elevator is currently on\n",
        "print([x.current_floor for x in bld.elevators])"
      ],
      "metadata": {
        "colab": {
          "base_uri": "https://localhost:8080/"
        },
        "id": "7yrE2wDPzg_7",
        "outputId": "1c305be5-cff3-4b6b-ad2c-f4e3fb98d34c"
      },
      "execution_count": null,
      "outputs": [
        {
          "output_type": "stream",
          "name": "stdout",
          "text": [
            "[0, 0, 0]\n"
          ]
        }
      ]
    },
    {
      "cell_type": "code",
      "source": [
        "# Display the building's list of floors\n",
        "bld.floors"
      ],
      "metadata": {
        "colab": {
          "base_uri": "https://localhost:8080/"
        },
        "id": "SNnwWy1nzjvT",
        "outputId": "a244da03-5915-40d4-ca28-5cbb4dcafb1b"
      },
      "execution_count": null,
      "outputs": [
        {
          "output_type": "execute_result",
          "data": {
            "text/plain": [
              "[<__main__.Lobby at 0x7bc5d172e7a0>,\n",
              " <__main__.MiddleFloor at 0x7bc5d172d930>,\n",
              " <__main__.MiddleFloor at 0x7bc5d172fa60>,\n",
              " <__main__.MiddleFloor at 0x7bc5d172f2b0>,\n",
              " <__main__.MiddleFloor at 0x7bc5d172faf0>,\n",
              " <__main__.MiddleFloor at 0x7bc5d1760970>,\n",
              " <__main__.MiddleFloor at 0x7bc5d1762650>,\n",
              " <__main__.MiddleFloor at 0x7bc5d1762530>,\n",
              " <__main__.MiddleFloor at 0x7bc5d17622f0>,\n",
              " <__main__.Roof at 0x7bc5d172df90>]"
            ]
          },
          "metadata": {},
          "execution_count": 5
        }
      ]
    },
    {
      "cell_type": "code",
      "source": [
        "# Display the riders waiting for the elevator at each floor\n",
        "print([x.waiting for x in bld.floors])"
      ],
      "metadata": {
        "colab": {
          "base_uri": "https://localhost:8080/"
        },
        "id": "BOXcD-WSz25d",
        "outputId": "243846f0-784b-4e37-ccaa-241440ee2e7e"
      },
      "execution_count": null,
      "outputs": [
        {
          "output_type": "stream",
          "name": "stdout",
          "text": [
            "[[], [], [], [], [], [], [], [], [], []]\n"
          ]
        }
      ]
    },
    {
      "cell_type": "code",
      "source": [
        "# Display the riders in each elevator\n",
        "print([x.occupants for x in bld.elevators])"
      ],
      "metadata": {
        "id": "LTsy45GH1OxY",
        "colab": {
          "base_uri": "https://localhost:8080/"
        },
        "outputId": "64d826d0-338c-416d-972f-e88eb21279b9"
      },
      "execution_count": null,
      "outputs": [
        {
          "output_type": "stream",
          "name": "stdout",
          "text": [
            "[[], [], []]\n"
          ]
        }
      ]
    },
    {
      "cell_type": "code",
      "source": [
        "# Display all occupants of the building\n",
        "bld.occupants"
      ],
      "metadata": {
        "colab": {
          "base_uri": "https://localhost:8080/"
        },
        "id": "yT_trrxPXCys",
        "outputId": "5a75ec78-7371-4e2a-b02b-6e88a93340f7"
      },
      "execution_count": null,
      "outputs": [
        {
          "output_type": "execute_result",
          "data": {
            "text/plain": [
              "[]"
            ]
          },
          "metadata": {},
          "execution_count": 8
        }
      ]
    },
    {
      "cell_type": "code",
      "source": [
        "# ACTION: Create a new rider associated with the building (they automatically enter the building at the lobby)\n",
        "rider1 = Rider(building = bld)\n",
        "rider1"
      ],
      "metadata": {
        "colab": {
          "base_uri": "https://localhost:8080/"
        },
        "id": "KOydU81ub9aD",
        "outputId": "ae79baaa-1402-4fcd-ded9-90d4816fc26e"
      },
      "execution_count": null,
      "outputs": [
        {
          "output_type": "execute_result",
          "data": {
            "text/plain": [
              "<__main__.Rider at 0x7bc5d1760070>"
            ]
          },
          "metadata": {},
          "execution_count": 9
        }
      ]
    },
    {
      "cell_type": "code",
      "source": [
        "# Display the building occupants again\n",
        "bld.occupants"
      ],
      "metadata": {
        "colab": {
          "base_uri": "https://localhost:8080/"
        },
        "id": "PFE7Zc6kc1li",
        "outputId": "41625001-0793-4169-9381-ebd293d9f6a5"
      },
      "execution_count": null,
      "outputs": [
        {
          "output_type": "execute_result",
          "data": {
            "text/plain": [
              "[<__main__.Rider at 0x7bc5d1760070>]"
            ]
          },
          "metadata": {},
          "execution_count": 10
        }
      ]
    },
    {
      "cell_type": "code",
      "source": [
        "# Display the riders waiting for the elevator at each floor\n",
        "print([x.waiting for x in bld.floors])"
      ],
      "metadata": {
        "colab": {
          "base_uri": "https://localhost:8080/"
        },
        "id": "P9hFngRkdCHo",
        "outputId": "90bd1575-e22d-4a07-f55c-15c94aaa11f4"
      },
      "execution_count": null,
      "outputs": [
        {
          "output_type": "stream",
          "name": "stdout",
          "text": [
            "[[<__main__.Rider object at 0x7bc5d1760070>], [], [], [], [], [], [], [], [], []]\n"
          ]
        }
      ]
    },
    {
      "cell_type": "code",
      "source": [
        "# ACTION: Have the rider enter the first elevator\n",
        "rider1.enter(0)"
      ],
      "metadata": {
        "id": "mkf8Rchsd5Uy"
      },
      "execution_count": null,
      "outputs": []
    },
    {
      "cell_type": "code",
      "source": [
        "# Display the occupants of that elevator\n",
        "bld.elevators[0].occupants"
      ],
      "metadata": {
        "colab": {
          "base_uri": "https://localhost:8080/"
        },
        "id": "PIxn724PeJFk",
        "outputId": "b9de6447-45ee-463e-e288-6c336e4c1dd0"
      },
      "execution_count": null,
      "outputs": [
        {
          "output_type": "execute_result",
          "data": {
            "text/plain": [
              "[<__main__.Rider at 0x7bc5d1760070>]"
            ]
          },
          "metadata": {},
          "execution_count": 13
        }
      ]
    },
    {
      "cell_type": "code",
      "source": [
        "# Display riders now waiting at the lobby\n",
        "bld.floors[0].waiting"
      ],
      "metadata": {
        "colab": {
          "base_uri": "https://localhost:8080/"
        },
        "id": "QvPt2YtMIxMo",
        "outputId": "5363ba17-23d8-4dd4-989f-52e3e22f4012"
      },
      "execution_count": null,
      "outputs": [
        {
          "output_type": "execute_result",
          "data": {
            "text/plain": [
              "[]"
            ]
          },
          "metadata": {},
          "execution_count": 14
        }
      ]
    },
    {
      "cell_type": "code",
      "source": [
        "# ACTION: Go up to the roof\n",
        "for i in range(9):\n",
        "  bld.elevators[0].ascend()"
      ],
      "metadata": {
        "id": "Tzhw3aU5eLIF"
      },
      "execution_count": null,
      "outputs": []
    },
    {
      "cell_type": "code",
      "source": [
        "# Display what floor each elevator is currently on\n",
        "print([x.current_floor for x in bld.elevators])"
      ],
      "metadata": {
        "colab": {
          "base_uri": "https://localhost:8080/"
        },
        "id": "D6_rdDebHLwB",
        "outputId": "7d157c04-a200-417a-b2cf-aa147eea7b5e"
      },
      "execution_count": null,
      "outputs": [
        {
          "output_type": "stream",
          "name": "stdout",
          "text": [
            "[9, 0, 0]\n"
          ]
        }
      ]
    },
    {
      "cell_type": "code",
      "source": [
        "# ACTION: Have the rider exit the elevator at the roof\n",
        "rider1.exit_elev()"
      ],
      "metadata": {
        "id": "XBf7CX8PKZHw"
      },
      "execution_count": null,
      "outputs": []
    },
    {
      "cell_type": "code",
      "source": [
        "# Display the riders waiting for the elevator at each floor\n",
        "print([x.waiting for x in bld.floors])"
      ],
      "metadata": {
        "colab": {
          "base_uri": "https://localhost:8080/"
        },
        "id": "h2EBOs73Kd4O",
        "outputId": "1a7bd5a9-6863-401f-9b3b-23db7c851eaa"
      },
      "execution_count": null,
      "outputs": [
        {
          "output_type": "stream",
          "name": "stdout",
          "text": [
            "[[], [], [], [], [], [], [], [], [], [<__main__.Rider object at 0x7bc5d1760070>]]\n"
          ]
        }
      ]
    },
    {
      "cell_type": "code",
      "source": [
        "# ACTION: Have the rider enter the elevator again from the roof\n",
        "rider1.enter(0)"
      ],
      "metadata": {
        "id": "MULjLPiRMJvW"
      },
      "execution_count": null,
      "outputs": []
    },
    {
      "cell_type": "code",
      "source": [
        "# ACTION: Go back down to the lobby\n",
        "for i in range(9):\n",
        "  bld.elevators[0].descend()"
      ],
      "metadata": {
        "id": "PrwrYJtOHJAa"
      },
      "execution_count": null,
      "outputs": []
    },
    {
      "cell_type": "code",
      "source": [
        "# Display what floor each elevator is currently on\n",
        "print([x.current_floor for x in bld.elevators])"
      ],
      "metadata": {
        "colab": {
          "base_uri": "https://localhost:8080/"
        },
        "id": "dAxBlnCPfFi3",
        "outputId": "2a170169-9aa5-489f-b8ad-14617d3d71d1"
      },
      "execution_count": null,
      "outputs": [
        {
          "output_type": "stream",
          "name": "stdout",
          "text": [
            "[0, 0, 0]\n"
          ]
        }
      ]
    },
    {
      "cell_type": "code",
      "source": [
        "# ACTION: Have the rider exit the elevator at the lobby\n",
        "rider1.exit_elev()"
      ],
      "metadata": {
        "id": "qGVJL4kyePE1"
      },
      "execution_count": null,
      "outputs": []
    },
    {
      "cell_type": "code",
      "source": [
        "# Display the riders waiting for the elevator at each floor\n",
        "print([x.waiting for x in bld.floors])"
      ],
      "metadata": {
        "colab": {
          "base_uri": "https://localhost:8080/"
        },
        "id": "8KVBYMkreXlH",
        "outputId": "966843a1-cec8-45cf-d537-cab42e04b676"
      },
      "execution_count": null,
      "outputs": [
        {
          "output_type": "stream",
          "name": "stdout",
          "text": [
            "[[<__main__.Rider object at 0x7bc5d1760070>], [], [], [], [], [], [], [], [], []]\n"
          ]
        }
      ]
    },
    {
      "cell_type": "code",
      "source": [
        "# Display the occupants of the elevator\n",
        "bld.elevators[0].occupants"
      ],
      "metadata": {
        "colab": {
          "base_uri": "https://localhost:8080/"
        },
        "id": "rkmh2q1VelHw",
        "outputId": "890d52a4-6292-46e6-9d4e-cfaa4badbb2d"
      },
      "execution_count": null,
      "outputs": [
        {
          "output_type": "execute_result",
          "data": {
            "text/plain": [
              "[]"
            ]
          },
          "metadata": {},
          "execution_count": 24
        }
      ]
    },
    {
      "cell_type": "code",
      "source": [
        "# Display the occupants of the building\n",
        "bld.occupants"
      ],
      "metadata": {
        "colab": {
          "base_uri": "https://localhost:8080/"
        },
        "id": "9BQhNAvgHoiA",
        "outputId": "5eaa194f-e269-46b2-d0ce-022178d27039"
      },
      "execution_count": null,
      "outputs": [
        {
          "output_type": "execute_result",
          "data": {
            "text/plain": [
              "[<__main__.Rider at 0x7bc5d1760070>]"
            ]
          },
          "metadata": {},
          "execution_count": 25
        }
      ]
    },
    {
      "cell_type": "code",
      "source": [
        "# ACTION: Have the rider exit the building\n",
        "rider1.leave()"
      ],
      "metadata": {
        "id": "j8zmHVS8CbZC"
      },
      "execution_count": null,
      "outputs": []
    },
    {
      "cell_type": "code",
      "source": [
        "# Display building occupants\n",
        "bld.occupants"
      ],
      "metadata": {
        "colab": {
          "base_uri": "https://localhost:8080/"
        },
        "id": "nT1IOFQFCco7",
        "outputId": "1fa9cdcb-6e52-45ca-f0e8-d41f74e0fd6f"
      },
      "execution_count": null,
      "outputs": [
        {
          "output_type": "execute_result",
          "data": {
            "text/plain": [
              "[]"
            ]
          },
          "metadata": {},
          "execution_count": 27
        }
      ]
    },
    {
      "cell_type": "markdown",
      "source": [
        "# To do"
      ],
      "metadata": {
        "id": "N0Tj5fPIOsYO"
      }
    },
    {
      "cell_type": "markdown",
      "source": [
        "- Elevator weight limit ✔\n",
        "- Floor buttons inside elevator - can select any/all of them at any time ✔\n",
        "- Status: the floor the elevator is currently at ✔\n",
        "- Status: going up, going down or stopped ✔\n",
        "- Floors - top floor only has down button, bottom floor only has up button, all intermediate floors have both ✔\n",
        "- Passengers with weights and desired destination floor ✔\n",
        "- Passengers can enter and exit elevator at any floor ✔\n",
        "<h4><u>Button functionality</u></h4>\n",
        "- Pressing up/down buttons on a floor has to call an elevator to that floor\n",
        "- Pressing floor buttons inside the elevator has to make the elevator go to that floor\n",
        "- What if origin floor and destination floor are same thing (person presses button to floor they are on)? Nothing should happen.\n",
        "- When is button state reset?\n",
        "- Emergency stop toggle\n",
        "<h4><u>Advanced automation</u></h4>\n",
        "- Queue of floors to visit\n",
        "- Decider algorithm - which floor to go to next based on which buttons have been pressed and in what order\n",
        "- Some kind of sequence of discrete states to keep track of when buttons were pressed in relation to which floor the elevator is currently on\n",
        "- Keep track of the elevator direction and do not reverse direction until there are no more stops in the current direction\n",
        "<h4><u>Extensions</u></h4>\n",
        "- Elevators can only go to a predefined set of floors, and they cover different ranges.\n"
      ],
      "metadata": {
        "id": "y30vcJpYOwDP"
      }
    },
    {
      "cell_type": "code",
      "source": [],
      "metadata": {
        "id": "9NebAt0GgZDQ"
      },
      "execution_count": null,
      "outputs": []
    },
    {
      "cell_type": "code",
      "source": [],
      "metadata": {
        "id": "yz2Ry1rUeuPE"
      },
      "execution_count": null,
      "outputs": []
    }
  ]
}